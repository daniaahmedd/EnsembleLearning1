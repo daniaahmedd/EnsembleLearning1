{
 "cells": [
  {
   "cell_type": "code",
   "execution_count": 1,
   "metadata": {},
   "outputs": [],
   "source": [
    "#dania\n",
    "import pandas as pd\n",
    "\n",
    "glassTypeData = pd.read_csv('glasstypePrediction.csv')"
   ]
  },
  {
   "cell_type": "code",
   "execution_count": 2,
   "metadata": {},
   "outputs": [
    {
     "name": "stdout",
     "output_type": "stream",
     "text": [
      "MinMaxScaler()\n",
      "[ 1.53393 17.38     4.49     3.5     75.41     6.21    16.19     3.15\n",
      "  0.51     7.     ]\n",
      "[[0.43283582 0.43759398 1.         ... 0.         0.         0.        ]\n",
      " [0.28358209 0.47518797 0.80178174 ... 0.         0.         0.        ]\n",
      " [0.22080773 0.42105263 0.79064588 ... 0.         0.         0.        ]\n",
      " ...\n",
      " [0.41703248 0.54586466 0.         ... 0.52063492 0.         1.        ]\n",
      " [0.23529412 0.54887218 0.         ... 0.4984127  0.         1.        ]\n",
      " [0.26163301 0.52631579 0.         ... 0.53015873 0.         1.        ]]\n",
      "[[0.43283582 0.43759398 1.         ... 0.         0.         0.        ]\n",
      " [0.28358209 0.47518797 0.80178174 ... 0.         0.         0.        ]\n",
      " [0.22080773 0.42105263 0.79064588 ... 0.         0.         0.        ]\n",
      " ...\n",
      " [0.41703248 0.54586466 0.         ... 0.52063492 0.         1.        ]\n",
      " [0.23529412 0.54887218 0.         ... 0.4984127  0.         1.        ]\n",
      " [0.26163301 0.52631579 0.         ... 0.53015873 0.         1.        ]]\n"
     ]
    }
   ],
   "source": [
    "#data preprocessing 1 - feature scaling\n",
    "from sklearn.preprocessing import MinMaxScaler\n",
    "glassType_scaler = MinMaxScaler()\n",
    "\n",
    "print(glassType_scaler.fit(glassTypeData))\n",
    "\n",
    "print(glassType_scaler.data_max_)\n",
    "\n",
    "print(glassType_scaler.transform(glassTypeData))\n",
    "\n",
    "print(glassType_scaler.transform(glassTypeData))"
   ]
  },
  {
   "cell_type": "code",
   "execution_count": 3,
   "metadata": {},
   "outputs": [
    {
     "data": {
      "text/html": [
       "<div>\n",
       "<style scoped>\n",
       "    .dataframe tbody tr th:only-of-type {\n",
       "        vertical-align: middle;\n",
       "    }\n",
       "\n",
       "    .dataframe tbody tr th {\n",
       "        vertical-align: top;\n",
       "    }\n",
       "\n",
       "    .dataframe thead th {\n",
       "        text-align: right;\n",
       "    }\n",
       "</style>\n",
       "<table border=\"1\" class=\"dataframe\">\n",
       "  <thead>\n",
       "    <tr style=\"text-align: right;\">\n",
       "      <th></th>\n",
       "      <th>RI</th>\n",
       "      <th>Na</th>\n",
       "      <th>Mg</th>\n",
       "      <th>Al</th>\n",
       "      <th>Si</th>\n",
       "      <th>K</th>\n",
       "      <th>Ca</th>\n",
       "      <th>Ba</th>\n",
       "      <th>Fe</th>\n",
       "      <th>Type</th>\n",
       "      <th>ba_zscore</th>\n",
       "    </tr>\n",
       "  </thead>\n",
       "  <tbody>\n",
       "    <tr>\n",
       "      <th>0</th>\n",
       "      <td>1.52101</td>\n",
       "      <td>13.64</td>\n",
       "      <td>4.49</td>\n",
       "      <td>1.10</td>\n",
       "      <td>71.78</td>\n",
       "      <td>0.06</td>\n",
       "      <td>8.75</td>\n",
       "      <td>0.00</td>\n",
       "      <td>0.0</td>\n",
       "      <td>1</td>\n",
       "      <td>-0.352877</td>\n",
       "    </tr>\n",
       "    <tr>\n",
       "      <th>1</th>\n",
       "      <td>1.51761</td>\n",
       "      <td>13.89</td>\n",
       "      <td>3.60</td>\n",
       "      <td>1.36</td>\n",
       "      <td>72.73</td>\n",
       "      <td>0.48</td>\n",
       "      <td>7.83</td>\n",
       "      <td>0.00</td>\n",
       "      <td>0.0</td>\n",
       "      <td>1</td>\n",
       "      <td>-0.352877</td>\n",
       "    </tr>\n",
       "    <tr>\n",
       "      <th>2</th>\n",
       "      <td>1.51618</td>\n",
       "      <td>13.53</td>\n",
       "      <td>3.55</td>\n",
       "      <td>1.54</td>\n",
       "      <td>72.99</td>\n",
       "      <td>0.39</td>\n",
       "      <td>7.78</td>\n",
       "      <td>0.00</td>\n",
       "      <td>0.0</td>\n",
       "      <td>1</td>\n",
       "      <td>-0.352877</td>\n",
       "    </tr>\n",
       "    <tr>\n",
       "      <th>3</th>\n",
       "      <td>1.51766</td>\n",
       "      <td>13.21</td>\n",
       "      <td>3.69</td>\n",
       "      <td>1.29</td>\n",
       "      <td>72.61</td>\n",
       "      <td>0.57</td>\n",
       "      <td>8.22</td>\n",
       "      <td>0.00</td>\n",
       "      <td>0.0</td>\n",
       "      <td>1</td>\n",
       "      <td>-0.352877</td>\n",
       "    </tr>\n",
       "    <tr>\n",
       "      <th>4</th>\n",
       "      <td>1.51742</td>\n",
       "      <td>13.27</td>\n",
       "      <td>3.62</td>\n",
       "      <td>1.24</td>\n",
       "      <td>73.08</td>\n",
       "      <td>0.55</td>\n",
       "      <td>8.07</td>\n",
       "      <td>0.00</td>\n",
       "      <td>0.0</td>\n",
       "      <td>1</td>\n",
       "      <td>-0.352877</td>\n",
       "    </tr>\n",
       "    <tr>\n",
       "      <th>...</th>\n",
       "      <td>...</td>\n",
       "      <td>...</td>\n",
       "      <td>...</td>\n",
       "      <td>...</td>\n",
       "      <td>...</td>\n",
       "      <td>...</td>\n",
       "      <td>...</td>\n",
       "      <td>...</td>\n",
       "      <td>...</td>\n",
       "      <td>...</td>\n",
       "      <td>...</td>\n",
       "    </tr>\n",
       "    <tr>\n",
       "      <th>209</th>\n",
       "      <td>1.51623</td>\n",
       "      <td>14.14</td>\n",
       "      <td>0.00</td>\n",
       "      <td>2.88</td>\n",
       "      <td>72.61</td>\n",
       "      <td>0.08</td>\n",
       "      <td>9.18</td>\n",
       "      <td>1.06</td>\n",
       "      <td>0.0</td>\n",
       "      <td>7</td>\n",
       "      <td>1.783978</td>\n",
       "    </tr>\n",
       "    <tr>\n",
       "      <th>210</th>\n",
       "      <td>1.51685</td>\n",
       "      <td>14.92</td>\n",
       "      <td>0.00</td>\n",
       "      <td>1.99</td>\n",
       "      <td>73.06</td>\n",
       "      <td>0.00</td>\n",
       "      <td>8.40</td>\n",
       "      <td>1.59</td>\n",
       "      <td>0.0</td>\n",
       "      <td>7</td>\n",
       "      <td>2.852405</td>\n",
       "    </tr>\n",
       "    <tr>\n",
       "      <th>211</th>\n",
       "      <td>1.52065</td>\n",
       "      <td>14.36</td>\n",
       "      <td>0.00</td>\n",
       "      <td>2.02</td>\n",
       "      <td>73.42</td>\n",
       "      <td>0.00</td>\n",
       "      <td>8.44</td>\n",
       "      <td>1.64</td>\n",
       "      <td>0.0</td>\n",
       "      <td>7</td>\n",
       "      <td>2.953200</td>\n",
       "    </tr>\n",
       "    <tr>\n",
       "      <th>212</th>\n",
       "      <td>1.51651</td>\n",
       "      <td>14.38</td>\n",
       "      <td>0.00</td>\n",
       "      <td>1.94</td>\n",
       "      <td>73.61</td>\n",
       "      <td>0.00</td>\n",
       "      <td>8.48</td>\n",
       "      <td>1.57</td>\n",
       "      <td>0.0</td>\n",
       "      <td>7</td>\n",
       "      <td>2.812087</td>\n",
       "    </tr>\n",
       "    <tr>\n",
       "      <th>213</th>\n",
       "      <td>1.51711</td>\n",
       "      <td>14.23</td>\n",
       "      <td>0.00</td>\n",
       "      <td>2.08</td>\n",
       "      <td>73.36</td>\n",
       "      <td>0.00</td>\n",
       "      <td>8.62</td>\n",
       "      <td>1.67</td>\n",
       "      <td>0.0</td>\n",
       "      <td>7</td>\n",
       "      <td>3.013677</td>\n",
       "    </tr>\n",
       "  </tbody>\n",
       "</table>\n",
       "<p>214 rows × 11 columns</p>\n",
       "</div>"
      ],
      "text/plain": [
       "          RI     Na    Mg    Al     Si     K    Ca    Ba   Fe  Type  ba_zscore\n",
       "0    1.52101  13.64  4.49  1.10  71.78  0.06  8.75  0.00  0.0     1  -0.352877\n",
       "1    1.51761  13.89  3.60  1.36  72.73  0.48  7.83  0.00  0.0     1  -0.352877\n",
       "2    1.51618  13.53  3.55  1.54  72.99  0.39  7.78  0.00  0.0     1  -0.352877\n",
       "3    1.51766  13.21  3.69  1.29  72.61  0.57  8.22  0.00  0.0     1  -0.352877\n",
       "4    1.51742  13.27  3.62  1.24  73.08  0.55  8.07  0.00  0.0     1  -0.352877\n",
       "..       ...    ...   ...   ...    ...   ...   ...   ...  ...   ...        ...\n",
       "209  1.51623  14.14  0.00  2.88  72.61  0.08  9.18  1.06  0.0     7   1.783978\n",
       "210  1.51685  14.92  0.00  1.99  73.06  0.00  8.40  1.59  0.0     7   2.852405\n",
       "211  1.52065  14.36  0.00  2.02  73.42  0.00  8.44  1.64  0.0     7   2.953200\n",
       "212  1.51651  14.38  0.00  1.94  73.61  0.00  8.48  1.57  0.0     7   2.812087\n",
       "213  1.51711  14.23  0.00  2.08  73.36  0.00  8.62  1.67  0.0     7   3.013677\n",
       "\n",
       "[214 rows x 11 columns]"
      ]
     },
     "metadata": {},
     "output_type": "display_data"
    }
   ],
   "source": [
    "#data preprocessing 2 - zscore\n",
    "from scipy.stats import zscore\n",
    "\n",
    "glassTypeData['ba_zscore'] = zscore(glassTypeData['Ba'])\n",
    "\n",
    "display(glassTypeData)"
   ]
  },
  {
   "cell_type": "code",
   "execution_count": 4,
   "metadata": {},
   "outputs": [
    {
     "name": "stdout",
     "output_type": "stream",
     "text": [
      "0      2.277267\n",
      "1      2.178155\n",
      "2      2.172476\n",
      "3      2.221375\n",
      "4      2.204972\n",
      "         ...   \n",
      "209    2.320425\n",
      "210    2.240710\n",
      "211    2.244956\n",
      "212    2.249184\n",
      "213    2.263844\n",
      "Name: Ca, Length: 214, dtype: float64\n"
     ]
    }
   ],
   "source": [
    "#data preprocessing 3 - log scaling\n",
    "import numpy as np\n",
    "from sklearn.preprocessing import FunctionTransformer\n",
    "transformer_glasstype=FunctionTransformer (np.log1p)\n",
    "t1=transformer_glasstype.transform (glassTypeData['Ca'])\n",
    "print (t1)"
   ]
  },
  {
   "cell_type": "code",
   "execution_count": 5,
   "metadata": {},
   "outputs": [],
   "source": [
    "#Model 1 - Random Forest\n"
   ]
  },
  {
   "cell_type": "code",
   "execution_count": 6,
   "metadata": {},
   "outputs": [],
   "source": [
    "#Model 2 - Ada Boost\n"
   ]
  },
  {
   "cell_type": "code",
   "execution_count": 7,
   "metadata": {},
   "outputs": [],
   "source": [
    "#Model 3 - Gradient Boost\n",
    "from sklearn.model_selection import train_test_split \n",
    "# X = glassTypeData['RI', 'Na', 'Mg', 'Al', 'Si', 'K', 'Ca', 'Ba', 'Fe']\n",
    "X_glasstype = glassTypeData.iloc[:,:9]\n",
    "y_glasstype = glassTypeData['Type']\n",
    "\n",
    "X_train_glasstype, X_test_glasstype, y_train_glasstype,  y_test_glasstype = train_test_split(X_glasstype, y_glasstype, random_state=104, train_size=0.8, shuffle=True)\n",
    "\n",
    "\n"
   ]
  },
  {
   "cell_type": "code",
   "execution_count": 8,
   "metadata": {},
   "outputs": [],
   "source": [
    "# #Model 3 - Gradient Boost pt2\n",
    "# from sklearn.ensemble import GradientBoostingClassifier\n",
    "\n",
    "# n_estimators= [100,150,250]\n",
    "# clf = GradientBoostingClassifier(n_estimators, learning_rate=1.0,\n",
    "#     max_depth=1, random_state=0).fit(X_train, y_train)\n",
    "# clf.score(X_test, y_test)"
   ]
  },
  {
   "cell_type": "code",
   "execution_count": 9,
   "metadata": {},
   "outputs": [],
   "source": [
    "# # Evaluating accuracy\n",
    "# from sklearn.metrics import accuracy_score, confusion_matrix, precision_score, recall_score, ConfusionMatrixDisplay\n",
    "\n",
    "# accuracy = accuracy_score(y_test,clf)\n",
    "# print(\"Accuracy:\", accuracy)"
   ]
  },
  {
   "cell_type": "code",
   "execution_count": 10,
   "metadata": {},
   "outputs": [
    {
     "name": "stdout",
     "output_type": "stream",
     "text": [
      "<bound method BaseSearchCV.decision_function of GridSearchCV(estimator=GradientBoostingClassifier(learning_rate=0.001,\n",
      "                                                  n_estimators=30),\n",
      "             param_grid={'bootstrap': [True, False], 'max_features': [2, 3, 4],\n",
      "                         'n_estimators': [100, 150, 250, 30],\n",
      "                         'oob_score': [True, False]})>\n"
     ]
    }
   ],
   "source": [
    "# Hyperparameter tuning\n",
    "from sklearn.ensemble import GradientBoostingClassifier\n",
    "from sklearn.metrics import accuracy_score, confusion_matrix, precision_score, recall_score, f1_score, ConfusionMatrixDisplay, classification_report\n",
    "from sklearn.experimental import enable_halving_search_cv\n",
    "from sklearn.model_selection import HalvingGridSearchCV\n",
    "from sklearn.model_selection import GridSearchCV\n",
    "\n",
    "n_arr_glasstype = [100, 150, 250, 30]\n",
    "l_arr_glasstype = [0.1, 0.01, 0.001]\n",
    "\n",
    "max_features_glasstype= [2,3,4]\n",
    "bootstrap_glasstype = [True,False]\n",
    "oob_score_glasstype = [True,False]\n",
    "\n",
    "param_grid_glasstype = {'n_estimators':n_arr_glasstype, 'max_features':max_features_glasstype,'bootstrap':bootstrap_glasstype, 'oob_score':oob_score_glasstype}  # Note, oob_score only makes sense when bootstrap=True!\n",
    "\n",
    "for n in n_arr_glasstype:\n",
    "  for l in l_arr_glasstype:\n",
    "    gradientBoostRes_glasstype= GradientBoostingClassifier(n_estimators=n, learning_rate= l)\n",
    "    gradientBoostRes_glasstype.fit(X_train_glasstype, y_train_glasstype)\n",
    "    y_pred_glasstype = gradientBoostRes_glasstype.predict(X_test_glasstype)\n",
    "\n",
    "    grid_glasstype = GridSearchCV(gradientBoostRes_glasstype,param_grid_glasstype)\n",
    "\n",
    "print(grid_glasstype.decision_function)"
   ]
  },
  {
   "cell_type": "code",
   "execution_count": 11,
   "metadata": {},
   "outputs": [],
   "source": [
    "newgradientBoostRes_glasstype= GradientBoostingClassifier(n_estimators=30, learning_rate= 0.001)\n",
    "newgradientBoostRes_glasstype.fit(X_train_glasstype, y_train_glasstype)\n",
    "\n",
    "y_pred_glasstype = newgradientBoostRes_glasstype.predict(X_test_glasstype)"
   ]
  },
  {
   "cell_type": "code",
   "execution_count": 12,
   "metadata": {},
   "outputs": [
    {
     "name": "stdout",
     "output_type": "stream",
     "text": [
      "[0.3023255813953488]\n",
      "[0.0914007571660357]\n",
      "[0.3023255813953488]\n",
      "[0.1403654485049834]\n"
     ]
    },
    {
     "name": "stderr",
     "output_type": "stream",
     "text": [
      "C:\\Users\\User\\AppData\\Local\\Packages\\PythonSoftwareFoundation.Python.3.10_qbz5n2kfra8p0\\LocalCache\\local-packages\\Python310\\site-packages\\sklearn\\metrics\\_classification.py:1344: UndefinedMetricWarning: Precision is ill-defined and being set to 0.0 in labels with no predicted samples. Use `zero_division` parameter to control this behavior.\n",
      "  _warn_prf(average, modifier, msg_start, len(result))\n"
     ]
    }
   ],
   "source": [
    "acc_glasstype =[]\n",
    "per_glasstype = []\n",
    "rec_glasstype = []\n",
    "fscore_glasstype = []\n",
    "\n",
    "#calculating accuracy\n",
    "accuracy = accuracy_score(y_test_glasstype,y_pred_glasstype)\n",
    "acc_glasstype.append(accuracy)\n",
    "#calculating percision\n",
    "precision = precision_score(y_test_glasstype, y_pred_glasstype, average='weighted', zero_division='warn')\n",
    "per_glasstype.append(precision)\n",
    "#calculating recall\n",
    "recall = recall_score(y_test_glasstype, y_pred_glasstype, average='weighted')\n",
    "rec_glasstype.append(recall)\n",
    "#calculating f1_score\n",
    "f1 = f1_score(y_test_glasstype, y_pred_glasstype, average='weighted')\n",
    "fscore_glasstype.append(f1)\n",
    "\n",
    "print(acc_glasstype)\n",
    "print(per_glasstype)\n",
    "print(rec_glasstype)\n",
    "print(fscore_glasstype)"
   ]
  },
  {
   "cell_type": "code",
   "execution_count": 13,
   "metadata": {},
   "outputs": [
    {
     "data": {
      "text/plain": [
       "array([[ 0, 18,  0,  0,  0,  0],\n",
       "       [ 0, 13,  0,  0,  0,  0],\n",
       "       [ 0,  3,  0,  0,  0,  0],\n",
       "       [ 0,  4,  0,  0,  0,  0],\n",
       "       [ 0,  2,  0,  0,  0,  0],\n",
       "       [ 0,  3,  0,  0,  0,  0]], dtype=int64)"
      ]
     },
     "execution_count": 13,
     "metadata": {},
     "output_type": "execute_result"
    }
   ],
   "source": [
    "cm_glasstype = confusion_matrix(y_test_glasstype, y_pred_glasstype)\n",
    "cm_glasstype"
   ]
  },
  {
   "cell_type": "code",
   "execution_count": 14,
   "metadata": {},
   "outputs": [
    {
     "name": "stdout",
     "output_type": "stream",
     "text": [
      "[[ 0 18  0  0  0  0]\n",
      " [ 0 13  0  0  0  0]\n",
      " [ 0  3  0  0  0  0]\n",
      " [ 0  4  0  0  0  0]\n",
      " [ 0  2  0  0  0  0]\n",
      " [ 0  3  0  0  0  0]]\n"
     ]
    },
    {
     "data": {
      "image/png": "[encoded data removed]",
      "text/plain": [
       "<Figure size 640x480 with 2 Axes>"
      ]
     },
     "metadata": {},
     "output_type": "display_data"
    }
   ],
   "source": [
    "dm_glasstype = ConfusionMatrixDisplay(confusion_matrix=cm_glasstype)\n",
    "dm_glasstype.plot()\n",
    "\n",
    "print(cm_glasstype)"
   ]
  },
  {
   "cell_type": "code",
   "execution_count": 15,
   "metadata": {},
   "outputs": [
    {
     "name": "stdout",
     "output_type": "stream",
     "text": [
      "              precision    recall  f1-score   support\n",
      "\n",
      "           1       0.00      0.00      0.00        18\n",
      "           2       0.30      1.00      0.46        13\n",
      "           3       0.00      0.00      0.00         3\n",
      "           5       0.00      0.00      0.00         4\n",
      "           6       0.00      0.00      0.00         2\n",
      "           7       0.00      0.00      0.00         3\n",
      "\n",
      "    accuracy                           0.30        43\n",
      "   macro avg       0.05      0.17      0.08        43\n",
      "weighted avg       0.09      0.30      0.14        43\n",
      "\n"
     ]
    },
    {
     "name": "stderr",
     "output_type": "stream",
     "text": [
      "C:\\Users\\User\\AppData\\Local\\Packages\\PythonSoftwareFoundation.Python.3.10_qbz5n2kfra8p0\\LocalCache\\local-packages\\Python310\\site-packages\\sklearn\\metrics\\_classification.py:1344: UndefinedMetricWarning: Precision and F-score are ill-defined and being set to 0.0 in labels with no predicted samples. Use `zero_division` parameter to control this behavior.\n",
      "  _warn_prf(average, modifier, msg_start, len(result))\n",
      "C:\\Users\\User\\AppData\\Local\\Packages\\PythonSoftwareFoundation.Python.3.10_qbz5n2kfra8p0\\LocalCache\\local-packages\\Python310\\site-packages\\sklearn\\metrics\\_classification.py:1344: UndefinedMetricWarning: Precision and F-score are ill-defined and being set to 0.0 in labels with no predicted samples. Use `zero_division` parameter to control this behavior.\n",
      "  _warn_prf(average, modifier, msg_start, len(result))\n",
      "C:\\Users\\User\\AppData\\Local\\Packages\\PythonSoftwareFoundation.Python.3.10_qbz5n2kfra8p0\\LocalCache\\local-packages\\Python310\\site-packages\\sklearn\\metrics\\_classification.py:1344: UndefinedMetricWarning: Precision and F-score are ill-defined and being set to 0.0 in labels with no predicted samples. Use `zero_division` parameter to control this behavior.\n",
      "  _warn_prf(average, modifier, msg_start, len(result))\n"
     ]
    }
   ],
   "source": [
    "print(classification_report(y_test_glasstype, y_pred_glasstype))"
   ]
  },
  {
   "cell_type": "code",
   "execution_count": null,
   "metadata": {},
   "outputs": [],
   "source": []
  }
 ],
 "metadata": {
  "kernelspec": {
   "display_name": "Python 3",
   "language": "python",
   "name": "python3"
  },
  "language_info": {
   "codemirror_mode": {
    "name": "ipython",
    "version": 3
   },
   "file_extension": ".py",
   "mimetype": "text/x-python",
   "name": "python",
   "nbconvert_exporter": "python",
   "pygments_lexer": "ipython3",
   "version": "3.10.11"
  }
 },
 "nbformat": 4,
 "nbformat_minor": 2
}
